{
  "nbformat": 4,
  "nbformat_minor": 0,
  "metadata": {
    "colab": {
      "name": "FabiyiOpeyemi@gmail.com.ipynb",
      "version": "0.3.2",
      "provenance": [],
      "collapsed_sections": [
        "6u0vao1N_79o"
      ],
      "include_colab_link": true
    },
    "language_info": {
      "codemirror_mode": {
        "name": "ipython",
        "version": 3
      },
      "file_extension": ".py",
      "mimetype": "text/x-python",
      "name": "python",
      "nbconvert_exporter": "python",
      "pygments_lexer": "ipython3",
      "version": "3.6.7"
    },
    "kernelspec": {
      "display_name": "Python 3",
      "language": "python",
      "name": "python3"
    }
  },
  "cells": [
    {
      "cell_type": "markdown",
      "metadata": {
        "id": "view-in-github",
        "colab_type": "text"
      },
      "source": [
        "<a href=\"https://colab.research.google.com/github/Opiano1/FinHack/blob/master/FabiyiOpeyemi_gmail_com.ipynb\" target=\"_parent\"><img src=\"https://colab.research.google.com/assets/colab-badge.svg\" alt=\"Open In Colab\"/></a>"
      ]
    },
    {
      "metadata": {
        "id": "4u0FIlFd_7zC",
        "colab_type": "text"
      },
      "cell_type": "markdown",
      "source": [
        "# PAYLATER LOAN PRE-DILIQUENCY MODEL"
      ]
    },
    {
      "metadata": {
        "id": "zn9QpzS-_7zl",
        "colab_type": "text"
      },
      "cell_type": "markdown",
      "source": [
        "## Introduction\n",
        "Paylater is a FinTech company that offers soft loans to borrowers.its Data Science interns to build a model that predits if a client will default or payback the loan."
      ]
    },
    {
      "metadata": {
        "id": "bXMEfm8a_7zu",
        "colab_type": "text"
      },
      "cell_type": "markdown",
      "source": [
        "## Data Gathering"
      ]
    },
    {
      "metadata": {
        "id": "5nNlpCkK_7z1",
        "colab_type": "code",
        "outputId": "3c100e96-dee8-4943-ea0f-c283643b967d",
        "colab": {
          "base_uri": "https://localhost:8080/",
          "height": 51
        }
      },
      "cell_type": "code",
      "source": [
        "# import packages\n",
        "import pandas as pd\n",
        "import numpy as np\n",
        "\n",
        "import matplotlib.pyplot as plt\n",
        "%matplotlib inline\n",
        "plt.rcParams['figure.figsize'] = (11.0, 7.0)\n",
        "import seaborn as sns\n",
        "sns.set_style('whitegrid')\n",
        "\n",
        "!pip install -U -q PyDrive\n",
        "from pydrive.auth import GoogleAuth\n",
        "from pydrive.drive import GoogleDrive\n",
        "from google.colab import auth\n",
        "from oauth2client.client import GoogleCredentials\n",
        "\n",
        "pd.set_option('mode.chained_assignment', None)"
      ],
      "execution_count": 0,
      "outputs": [
        {
          "output_type": "stream",
          "text": [
            "\u001b[?25l\r\u001b[K    1% |▎                               | 10kB 19.1MB/s eta 0:00:01\r\u001b[K    2% |▋                               | 20kB 1.8MB/s eta 0:00:01\r\u001b[K    3% |█                               | 30kB 2.6MB/s eta 0:00:01\r\u001b[K    4% |█▎                              | 40kB 1.7MB/s eta 0:00:01\r\u001b[K    5% |█▋                              | 51kB 2.1MB/s eta 0:00:01\r\u001b[K    6% |██                              | 61kB 2.5MB/s eta 0:00:01\r\u001b[K    7% |██▎                             | 71kB 2.9MB/s eta 0:00:01\r\u001b[K    8% |██▋                             | 81kB 3.3MB/s eta 0:00:01\r\u001b[K    9% |███                             | 92kB 3.6MB/s eta 0:00:01\r\u001b[K    10% |███▎                            | 102kB 2.8MB/s eta 0:00:01\r\u001b[K    11% |███▋                            | 112kB 2.8MB/s eta 0:00:01\r\u001b[K    12% |████                            | 122kB 4.0MB/s eta 0:00:01\r\u001b[K    13% |████▎                           | 133kB 3.9MB/s eta 0:00:01\r\u001b[K    14% |████▋                           | 143kB 7.4MB/s eta 0:00:01\r\u001b[K    15% |█████                           | 153kB 7.4MB/s eta 0:00:01\r\u001b[K    16% |█████▎                          | 163kB 7.4MB/s eta 0:00:01\r\u001b[K    17% |█████▋                          | 174kB 7.5MB/s eta 0:00:01\r\u001b[K    18% |██████                          | 184kB 7.5MB/s eta 0:00:01\r\u001b[K    19% |██████▎                         | 194kB 7.5MB/s eta 0:00:01\r\u001b[K    20% |██████▋                         | 204kB 34.8MB/s eta 0:00:01\r\u001b[K    21% |███████                         | 215kB 8.4MB/s eta 0:00:01\r\u001b[K    22% |███████▎                        | 225kB 8.4MB/s eta 0:00:01\r\u001b[K    23% |███████▋                        | 235kB 8.5MB/s eta 0:00:01\r\u001b[K    24% |████████                        | 245kB 8.5MB/s eta 0:00:01\r\u001b[K    25% |████████▎                       | 256kB 8.5MB/s eta 0:00:01\r\u001b[K    26% |████████▋                       | 266kB 8.3MB/s eta 0:00:01\r\u001b[K    27% |█████████                       | 276kB 8.4MB/s eta 0:00:01\r\u001b[K    29% |█████████▎                      | 286kB 8.4MB/s eta 0:00:01\r\u001b[K    30% |█████████▋                      | 296kB 8.4MB/s eta 0:00:01\r\u001b[K    31% |██████████                      | 307kB 8.6MB/s eta 0:00:01\r\u001b[K    32% |██████████▎                     | 317kB 40.5MB/s eta 0:00:01\r\u001b[K    33% |██████████▋                     | 327kB 41.3MB/s eta 0:00:01\r\u001b[K    34% |███████████                     | 337kB 42.1MB/s eta 0:00:01\r\u001b[K    35% |███████████▎                    | 348kB 38.8MB/s eta 0:00:01\r\u001b[K    36% |███████████▋                    | 358kB 39.4MB/s eta 0:00:01\r\u001b[K    37% |████████████                    | 368kB 44.6MB/s eta 0:00:01\r\u001b[K    38% |████████████▎                   | 378kB 44.0MB/s eta 0:00:01\r\u001b[K    39% |████████████▋                   | 389kB 44.6MB/s eta 0:00:01\r\u001b[K    40% |█████████████                   | 399kB 9.8MB/s eta 0:00:01\r\u001b[K    41% |█████████████▎                  | 409kB 9.7MB/s eta 0:00:01\r\u001b[K    42% |█████████████▋                  | 419kB 9.7MB/s eta 0:00:01\r\u001b[K    43% |██████████████                  | 430kB 9.6MB/s eta 0:00:01\r\u001b[K    44% |██████████████▎                 | 440kB 9.6MB/s eta 0:00:01\r\u001b[K    45% |██████████████▋                 | 450kB 9.7MB/s eta 0:00:01\r\u001b[K    46% |███████████████                 | 460kB 9.7MB/s eta 0:00:01\r\u001b[K    47% |███████████████▎                | 471kB 9.7MB/s eta 0:00:01\r\u001b[K    48% |███████████████▋                | 481kB 9.7MB/s eta 0:00:01\r\u001b[K    49% |████████████████                | 491kB 9.7MB/s eta 0:00:01\r\u001b[K    50% |████████████████▎               | 501kB 42.9MB/s eta 0:00:01\r\u001b[K    51% |████████████████▋               | 512kB 42.4MB/s eta 0:00:01\r\u001b[K    52% |█████████████████               | 522kB 43.1MB/s eta 0:00:01\r\u001b[K    53% |█████████████████▎              | 532kB 44.2MB/s eta 0:00:01\r\u001b[K    54% |█████████████████▋              | 542kB 8.9MB/s eta 0:00:01\r\u001b[K    55% |██████████████████              | 552kB 8.9MB/s eta 0:00:01\r\u001b[K    57% |██████████████████▎             | 563kB 8.9MB/s eta 0:00:01\r\u001b[K    58% |██████████████████▋             | 573kB 8.9MB/s eta 0:00:01\r\u001b[K    59% |███████████████████             | 583kB 8.7MB/s eta 0:00:01\r\u001b[K    60% |███████████████████▎            | 593kB 8.4MB/s eta 0:00:01\r\u001b[K    61% |███████████████████▋            | 604kB 8.4MB/s eta 0:00:01\r\u001b[K    62% |████████████████████            | 614kB 8.5MB/s eta 0:00:01\r\u001b[K    63% |████████████████████▎           | 624kB 8.5MB/s eta 0:00:01\r\u001b[K    64% |████████████████████▋           | 634kB 8.4MB/s eta 0:00:01\r\u001b[K    65% |█████████████████████           | 645kB 34.6MB/s eta 0:00:01\r\u001b[K    66% |█████████████████████▎          | 655kB 35.3MB/s eta 0:00:01\r\u001b[K    67% |█████████████████████▋          | 665kB 30.2MB/s eta 0:00:01\r\u001b[K    68% |██████████████████████          | 675kB 30.9MB/s eta 0:00:01\r\u001b[K    69% |██████████████████████▎         | 686kB 33.5MB/s eta 0:00:01\r\u001b[K    70% |██████████████████████▋         | 696kB 38.3MB/s eta 0:00:01\r\u001b[K    71% |███████████████████████         | 706kB 38.8MB/s eta 0:00:01\r\u001b[K    72% |███████████████████████▎        | 716kB 39.3MB/s eta 0:00:01\r\u001b[K    73% |███████████████████████▋        | 727kB 39.2MB/s eta 0:00:01\r\u001b[K    74% |████████████████████████        | 737kB 39.5MB/s eta 0:00:01\r\u001b[K    75% |████████████████████████▎       | 747kB 40.1MB/s eta 0:00:01\r\u001b[K    76% |████████████████████████▋       | 757kB 40.2MB/s eta 0:00:01\r\u001b[K    77% |████████████████████████▉       | 768kB 50.5MB/s eta 0:00:01\r\u001b[K    78% |█████████████████████████▏      | 778kB 49.9MB/s eta 0:00:01\r\u001b[K    79% |█████████████████████████▌      | 788kB 49.6MB/s eta 0:00:01\r\u001b[K    80% |█████████████████████████▉      | 798kB 48.8MB/s eta 0:00:01\r\u001b[K    81% |██████████████████████████▏     | 808kB 49.1MB/s eta 0:00:01\r\u001b[K    82% |██████████████████████████▌     | 819kB 46.6MB/s eta 0:00:01\r\u001b[K    83% |██████████████████████████▉     | 829kB 46.9MB/s eta 0:00:01\r\u001b[K    85% |███████████████████████████▏    | 839kB 47.0MB/s eta 0:00:01\r\u001b[K    86% |███████████████████████████▌    | 849kB 46.5MB/s eta 0:00:01\r\u001b[K    87% |███████████████████████████▉    | 860kB 42.0MB/s eta 0:00:01\r\u001b[K    88% |████████████████████████████▏   | 870kB 41.8MB/s eta 0:00:01\r\u001b[K    89% |████████████████████████████▌   | 880kB 42.9MB/s eta 0:00:01\r\u001b[K    90% |████████████████████████████▉   | 890kB 42.7MB/s eta 0:00:01\r\u001b[K    91% |█████████████████████████████▏  | 901kB 43.1MB/s eta 0:00:01\r\u001b[K    92% |█████████████████████████████▌  | 911kB 43.2MB/s eta 0:00:01\r\u001b[K    93% |█████████████████████████████▉  | 921kB 44.4MB/s eta 0:00:01\r\u001b[K    94% |██████████████████████████████▏ | 931kB 44.7MB/s eta 0:00:01\r\u001b[K    95% |██████████████████████████████▌ | 942kB 43.5MB/s eta 0:00:01\r\u001b[K    96% |██████████████████████████████▉ | 952kB 43.0MB/s eta 0:00:01\r\u001b[K    97% |███████████████████████████████▏| 962kB 48.8MB/s eta 0:00:01\r\u001b[K    98% |███████████████████████████████▌| 972kB 48.1MB/s eta 0:00:01\r\u001b[K    99% |███████████████████████████████▉| 983kB 44.9MB/s eta 0:00:01\r\u001b[K    100% |████████████████████████████████| 993kB 16.1MB/s \n",
            "\u001b[?25h  Building wheel for PyDrive (setup.py) ... \u001b[?25ldone\n",
            "\u001b[?25h"
          ],
          "name": "stdout"
        }
      ]
    },
    {
      "metadata": {
        "id": "nzq5aH9d_70P",
        "colab_type": "text"
      },
      "cell_type": "markdown",
      "source": [
        "Get Data"
      ]
    },
    {
      "metadata": {
        "id": "KXxM-qoEw-Ob",
        "colab_type": "code",
        "colab": {}
      },
      "cell_type": "code",
      "source": [
        "# Authenticate and create the PyDrive client.\n",
        "auth.authenticate_user()\n",
        "gauth = GoogleAuth()\n",
        "gauth.credentials = GoogleCredentials.get_application_default()\n",
        "drive = GoogleDrive(gauth)\n",
        "\n",
        "url = 'https://drive.google.com/open?id=1zBsHdKbKekqM9g-iLK-Qm44MkLczbwyd'\n",
        "url_id = url.split('=')[1]\n",
        "\n",
        "downloaded = drive.CreateFile({'id':url_id}) \n",
        "downloaded.GetContentFile('paylaterloan.csv')  \n",
        "loan = pd.read_csv('paylaterloan.csv')"
      ],
      "execution_count": 0,
      "outputs": []
    },
    {
      "metadata": {
        "id": "m80QQ13U_70y",
        "colab_type": "text"
      },
      "cell_type": "markdown",
      "source": [
        "## Data Accessing\n",
        "Access the data for quality and tidyness."
      ]
    },
    {
      "metadata": {
        "id": "CFT-ONEV_702",
        "colab_type": "text"
      },
      "cell_type": "markdown",
      "source": [
        "### Head"
      ]
    },
    {
      "metadata": {
        "id": "DA6w3VOi_709",
        "colab_type": "code",
        "outputId": "3a0bf48c-6382-422b-a210-92938cd3a37c",
        "colab": {
          "base_uri": "https://localhost:8080/",
          "height": 474
        }
      },
      "cell_type": "code",
      "source": [
        "# first five rows\n",
        "loan_df = loan.copy()\n",
        "loan_df.head()"
      ],
      "execution_count": 0,
      "outputs": [
        {
          "output_type": "execute_result",
          "data": {
            "text/html": [
              "<div>\n",
              "<style scoped>\n",
              "    .dataframe tbody tr th:only-of-type {\n",
              "        vertical-align: middle;\n",
              "    }\n",
              "\n",
              "    .dataframe tbody tr th {\n",
              "        vertical-align: top;\n",
              "    }\n",
              "\n",
              "    .dataframe thead th {\n",
              "        text-align: right;\n",
              "    }\n",
              "</style>\n",
              "<table border=\"1\" class=\"dataframe\">\n",
              "  <thead>\n",
              "    <tr style=\"text-align: right;\">\n",
              "      <th></th>\n",
              "      <th>clientId</th>\n",
              "      <th>clientIncome</th>\n",
              "      <th>incomeVerified</th>\n",
              "      <th>clientAge</th>\n",
              "      <th>clientGender</th>\n",
              "      <th>clientMaritalStatus</th>\n",
              "      <th>clientLoanPurpose</th>\n",
              "      <th>clientResidentialStauts</th>\n",
              "      <th>clientState</th>\n",
              "      <th>clientTimeAtEmployer</th>\n",
              "      <th>...</th>\n",
              "      <th>paidAt</th>\n",
              "      <th>loanAmount</th>\n",
              "      <th>interestRate</th>\n",
              "      <th>loanTerm</th>\n",
              "      <th>max_amount_taken</th>\n",
              "      <th>max_tenor_taken</th>\n",
              "      <th>firstPaymentDefault</th>\n",
              "      <th>firstPaymentRatio</th>\n",
              "      <th>firstDueDate</th>\n",
              "      <th>loanDefault</th>\n",
              "    </tr>\n",
              "  </thead>\n",
              "  <tbody>\n",
              "    <tr>\n",
              "      <th>0</th>\n",
              "      <td>755398623</td>\n",
              "      <td>52500.0</td>\n",
              "      <td>FALSE</td>\n",
              "      <td>29</td>\n",
              "      <td>FEMALE</td>\n",
              "      <td>Single</td>\n",
              "      <td>business</td>\n",
              "      <td>Rented</td>\n",
              "      <td>KANO</td>\n",
              "      <td>7</td>\n",
              "      <td>...</td>\n",
              "      <td>2018-09-04 11:54:00 UTC</td>\n",
              "      <td>16000</td>\n",
              "      <td>20.0</td>\n",
              "      <td>60</td>\n",
              "      <td>1</td>\n",
              "      <td>1</td>\n",
              "      <td>0</td>\n",
              "      <td>0.0</td>\n",
              "      <td>2018-08-13 12:00:00 UTC</td>\n",
              "      <td>0</td>\n",
              "    </tr>\n",
              "    <tr>\n",
              "      <th>1</th>\n",
              "      <td>915689736</td>\n",
              "      <td>52500.0</td>\n",
              "      <td>FALSE</td>\n",
              "      <td>25</td>\n",
              "      <td>MALE</td>\n",
              "      <td>Single</td>\n",
              "      <td>business</td>\n",
              "      <td>Rented</td>\n",
              "      <td>LAGOS</td>\n",
              "      <td>21</td>\n",
              "      <td>...</td>\n",
              "      <td>2018-09-06 04:44:04 UTC</td>\n",
              "      <td>14500</td>\n",
              "      <td>15.0</td>\n",
              "      <td>60</td>\n",
              "      <td>0</td>\n",
              "      <td>1</td>\n",
              "      <td>0</td>\n",
              "      <td>0.0</td>\n",
              "      <td>2018-09-21 12:00:00 UTC</td>\n",
              "      <td>0</td>\n",
              "    </tr>\n",
              "    <tr>\n",
              "      <th>2</th>\n",
              "      <td>292629156</td>\n",
              "      <td>35000.0</td>\n",
              "      <td>FALSE</td>\n",
              "      <td>32</td>\n",
              "      <td>MALE</td>\n",
              "      <td>Single</td>\n",
              "      <td>education</td>\n",
              "      <td>Rented</td>\n",
              "      <td>ANAMBRA</td>\n",
              "      <td>29</td>\n",
              "      <td>...</td>\n",
              "      <td>Null</td>\n",
              "      <td>19500</td>\n",
              "      <td>15.0</td>\n",
              "      <td>60</td>\n",
              "      <td>0</td>\n",
              "      <td>1</td>\n",
              "      <td>1</td>\n",
              "      <td>0.0</td>\n",
              "      <td>2018-09-24 12:00:00 UTC</td>\n",
              "      <td>1</td>\n",
              "    </tr>\n",
              "    <tr>\n",
              "      <th>3</th>\n",
              "      <td>671710636</td>\n",
              "      <td>35000.0</td>\n",
              "      <td>FALSE</td>\n",
              "      <td>28</td>\n",
              "      <td>FEMALE</td>\n",
              "      <td>Married</td>\n",
              "      <td>business</td>\n",
              "      <td>Own Residence</td>\n",
              "      <td>OSUN</td>\n",
              "      <td>36+</td>\n",
              "      <td>...</td>\n",
              "      <td>2018-07-10 11:23:31 UTC</td>\n",
              "      <td>19500</td>\n",
              "      <td>15.0</td>\n",
              "      <td>60</td>\n",
              "      <td>1</td>\n",
              "      <td>1</td>\n",
              "      <td>0</td>\n",
              "      <td>0.0</td>\n",
              "      <td>2018-07-19 12:00:00 UTC</td>\n",
              "      <td>0</td>\n",
              "    </tr>\n",
              "    <tr>\n",
              "      <th>4</th>\n",
              "      <td>367769827</td>\n",
              "      <td>35000.0</td>\n",
              "      <td>FALSE</td>\n",
              "      <td>34</td>\n",
              "      <td>MALE</td>\n",
              "      <td>Married</td>\n",
              "      <td>medical</td>\n",
              "      <td>Rented</td>\n",
              "      <td>ONDO</td>\n",
              "      <td>36+</td>\n",
              "      <td>...</td>\n",
              "      <td>2018-08-09 06:05:37 UTC</td>\n",
              "      <td>17500</td>\n",
              "      <td>12.5</td>\n",
              "      <td>60</td>\n",
              "      <td>1</td>\n",
              "      <td>1</td>\n",
              "      <td>1</td>\n",
              "      <td>0.0</td>\n",
              "      <td>2018-07-02 12:00:00 UTC</td>\n",
              "      <td>1</td>\n",
              "    </tr>\n",
              "  </tbody>\n",
              "</table>\n",
              "<p>5 rows × 31 columns</p>\n",
              "</div>"
            ],
            "text/plain": [
              "    clientId  clientIncome incomeVerified  clientAge clientGender  \\\n",
              "0  755398623       52500.0          FALSE         29       FEMALE   \n",
              "1  915689736       52500.0          FALSE         25         MALE   \n",
              "2  292629156       35000.0          FALSE         32         MALE   \n",
              "3  671710636       35000.0          FALSE         28       FEMALE   \n",
              "4  367769827       35000.0          FALSE         34         MALE   \n",
              "\n",
              "  clientMaritalStatus clientLoanPurpose clientResidentialStauts clientState  \\\n",
              "0              Single          business                  Rented        KANO   \n",
              "1              Single          business                  Rented       LAGOS   \n",
              "2              Single         education                  Rented     ANAMBRA   \n",
              "3             Married          business           Own Residence        OSUN   \n",
              "4             Married           medical                  Rented        ONDO   \n",
              "\n",
              "  clientTimeAtEmployer  ...                   paidAt loanAmount interestRate  \\\n",
              "0                    7  ...  2018-09-04 11:54:00 UTC      16000         20.0   \n",
              "1                   21  ...  2018-09-06 04:44:04 UTC      14500         15.0   \n",
              "2                   29  ...                     Null      19500         15.0   \n",
              "3                  36+  ...  2018-07-10 11:23:31 UTC      19500         15.0   \n",
              "4                  36+  ...  2018-08-09 06:05:37 UTC      17500         12.5   \n",
              "\n",
              "  loanTerm  max_amount_taken max_tenor_taken firstPaymentDefault  \\\n",
              "0       60                 1               1                   0   \n",
              "1       60                 0               1                   0   \n",
              "2       60                 0               1                   1   \n",
              "3       60                 1               1                   0   \n",
              "4       60                 1               1                   1   \n",
              "\n",
              "  firstPaymentRatio             firstDueDate loanDefault  \n",
              "0               0.0  2018-08-13 12:00:00 UTC           0  \n",
              "1               0.0  2018-09-21 12:00:00 UTC           0  \n",
              "2               0.0  2018-09-24 12:00:00 UTC           1  \n",
              "3               0.0  2018-07-19 12:00:00 UTC           0  \n",
              "4               0.0  2018-07-02 12:00:00 UTC           1  \n",
              "\n",
              "[5 rows x 31 columns]"
            ]
          },
          "metadata": {
            "tags": []
          },
          "execution_count": 5
        }
      ]
    },
    {
      "metadata": {
        "id": "KvQREweY_71-",
        "colab_type": "text"
      },
      "cell_type": "markdown",
      "source": [
        "### Shape of Dataframe"
      ]
    },
    {
      "metadata": {
        "id": "AMCdW1b8_72B",
        "colab_type": "code",
        "outputId": "8eeb986a-380c-4341-c987-4d62ce219792",
        "colab": {
          "base_uri": "https://localhost:8080/",
          "height": 34
        }
      },
      "cell_type": "code",
      "source": [
        "# shape\n",
        "print(f'There are {loan_df.shape[0]} observations and {loan_df.shape[1]} fields in the dataframe')"
      ],
      "execution_count": 0,
      "outputs": [
        {
          "output_type": "stream",
          "text": [
            "There are 159596 observations and 31 fields in the dataframe\n"
          ],
          "name": "stdout"
        }
      ]
    },
    {
      "metadata": {
        "id": "k2Edgyfk_72k",
        "colab_type": "text"
      },
      "cell_type": "markdown",
      "source": [
        "### Number Missing Values"
      ]
    },
    {
      "metadata": {
        "scrolled": true,
        "id": "8XhnqiJn_72n",
        "colab_type": "code",
        "outputId": "e0f757cb-a215-4845-b792-0ea7f1dd5683",
        "colab": {
          "base_uri": "https://localhost:8080/",
          "height": 561
        }
      },
      "cell_type": "code",
      "source": [
        "# missing values\n",
        "loan_df.isnull().sum()"
      ],
      "execution_count": 0,
      "outputs": [
        {
          "output_type": "execute_result",
          "data": {
            "text/plain": [
              "clientId                     0\n",
              "clientIncome                 0\n",
              "incomeVerified               0\n",
              "clientAge                    0\n",
              "clientGender                 0\n",
              "clientMaritalStatus          0\n",
              "clientLoanPurpose            0\n",
              "clientResidentialStauts      0\n",
              "clientState                  0\n",
              "clientTimeAtEmployer         0\n",
              "clientNumberPhoneContacts    0\n",
              "clientAvgCallsPerDay         0\n",
              "loanId                       0\n",
              "loanType                     0\n",
              "loanNumber                   0\n",
              "applicationDate              0\n",
              "approvalDate                 0\n",
              "declinedDate                 0\n",
              "disbursementDate             0\n",
              "payout_status                0\n",
              "dueDate                      0\n",
              "paidAt                       0\n",
              "loanAmount                   0\n",
              "interestRate                 0\n",
              "loanTerm                     0\n",
              "max_amount_taken             0\n",
              "max_tenor_taken              0\n",
              "firstPaymentDefault          0\n",
              "firstPaymentRatio            0\n",
              "firstDueDate                 0\n",
              "loanDefault                  0\n",
              "dtype: int64"
            ]
          },
          "metadata": {
            "tags": []
          },
          "execution_count": 7
        }
      ]
    },
    {
      "metadata": {
        "id": "QlESjwZS_73T",
        "colab_type": "text"
      },
      "cell_type": "markdown",
      "source": [
        "### Client State"
      ]
    },
    {
      "metadata": {
        "id": "AK26tBz0_73W",
        "colab_type": "code",
        "outputId": "d6396989-8e6f-475b-e572-3489d826b503",
        "colab": {
          "base_uri": "https://localhost:8080/",
          "height": 489
        }
      },
      "cell_type": "code",
      "source": [
        "loan_df.clientState.value_counts().plot.bar();"
      ],
      "execution_count": 0,
      "outputs": [
        {
          "output_type": "display_data",
          "data": {
            "image/png": "[encoded data removed]",
            "text/plain": [
              "<Figure size 792x504 with 1 Axes>"
            ]
          },
          "metadata": {
            "tags": []
          }
        }
      ]
    },
    {
      "metadata": {
        "id": "PCuxztuZ_73p",
        "colab_type": "text"
      },
      "cell_type": "markdown",
      "source": [
        "Notes:\n",
        ">- Null values\n",
        "- Lagos is not unique\n",
        "- Ojo is in in lagos"
      ]
    },
    {
      "metadata": {
        "id": "9--X_Kv3_73_",
        "colab_type": "text"
      },
      "cell_type": "markdown",
      "source": [
        "### Client Residential Status"
      ]
    },
    {
      "metadata": {
        "id": "yLp5BR3P_74F",
        "colab_type": "code",
        "outputId": "e6b10d7b-d376-4120-a34d-bf22f27b86fa",
        "colab": {
          "base_uri": "https://localhost:8080/",
          "height": 421
        }
      },
      "cell_type": "code",
      "source": [
        "loan_df.clientResidentialStauts.value_counts().plot.bar();"
      ],
      "execution_count": 0,
      "outputs": [
        {
          "output_type": "display_data",
          "data": {
            "image/png": "[encoded data removed]",
            "text/plain": [
              "<Figure size 576x396 with 1 Axes>"
            ]
          },
          "metadata": {
            "tags": []
          }
        }
      ]
    },
    {
      "metadata": {
        "id": "wem8asna_74V",
        "colab_type": "text"
      },
      "cell_type": "markdown",
      "source": [
        "Notes:\n",
        ">- Column not named properly\n",
        "- Null values"
      ]
    },
    {
      "metadata": {
        "id": "NUAl5FuX_74Z",
        "colab_type": "text"
      },
      "cell_type": "markdown",
      "source": [
        "### Client Time At Employer"
      ]
    },
    {
      "metadata": {
        "id": "ZjOEPmiI_74c",
        "colab_type": "code",
        "outputId": "8f40ce83-2719-4ab3-fe22-5b805c24143f",
        "colab": {
          "base_uri": "https://localhost:8080/",
          "height": 354
        }
      },
      "cell_type": "code",
      "source": [
        "loan.clientTimeAtEmployer.value_counts().plot.bar();"
      ],
      "execution_count": 0,
      "outputs": [
        {
          "output_type": "display_data",
          "data": {
            "image/png": "[encoded data removed]",
            "text/plain": [
              "<Figure size 576x396 with 1 Axes>"
            ]
          },
          "metadata": {
            "tags": []
          }
        }
      ]
    },
    {
      "metadata": {
        "id": "z9rQdG56_75H",
        "colab_type": "text"
      },
      "cell_type": "markdown",
      "source": [
        "Notes:\n",
        ">- Null values\n",
        "- Negative values\n",
        "- Non-numeric characters"
      ]
    },
    {
      "metadata": {
        "id": "vhhEhRya_75L",
        "colab_type": "text"
      },
      "cell_type": "markdown",
      "source": [
        "### Income Verified"
      ]
    },
    {
      "metadata": {
        "id": "H3Q9FGek_75Z",
        "colab_type": "code",
        "outputId": "7ec16131-025d-48b0-8c59-a52fe652259f",
        "colab": {
          "base_uri": "https://localhost:8080/",
          "height": 373
        }
      },
      "cell_type": "code",
      "source": [
        "loan_df.incomeVerified.value_counts().plot.bar();"
      ],
      "execution_count": 0,
      "outputs": [
        {
          "output_type": "display_data",
          "data": {
            "image/png": "[encoded data removed]",
            "text/plain": [
              "<Figure size 576x396 with 1 Axes>"
            ]
          },
          "metadata": {
            "tags": []
          }
        }
      ]
    },
    {
      "metadata": {
        "id": "HUr-3c0y_76d",
        "colab_type": "text"
      },
      "cell_type": "markdown",
      "source": [
        "Notes:\n",
        ">- Null values"
      ]
    },
    {
      "metadata": {
        "id": "5EHrQcbp_76h",
        "colab_type": "code",
        "outputId": "2941a3c5-950a-4289-9bad-baa7875d9de3",
        "colab": {
          "base_uri": "https://localhost:8080/",
          "height": 377
        }
      },
      "cell_type": "code",
      "source": [
        "loan_df.clientGender.value_counts().plot.bar();"
      ],
      "execution_count": 0,
      "outputs": [
        {
          "output_type": "display_data",
          "data": {
            "image/png": "[encoded data removed]",
            "text/plain": [
              "<Figure size 576x396 with 1 Axes>"
            ]
          },
          "metadata": {
            "tags": []
          }
        }
      ]
    },
    {
      "metadata": {
        "id": "s-cS7Kiw_77i",
        "colab_type": "text"
      },
      "cell_type": "markdown",
      "source": [
        "### Client Marital Status"
      ]
    },
    {
      "metadata": {
        "id": "1ZnjIWC9_77m",
        "colab_type": "code",
        "outputId": "94a3bb90-5b9d-40f5-bcd5-0996756e5d44",
        "colab": {
          "base_uri": "https://localhost:8080/",
          "height": 136
        }
      },
      "cell_type": "code",
      "source": [
        "loan_df.clientMaritalStatus.value_counts()"
      ],
      "execution_count": 0,
      "outputs": [
        {
          "output_type": "execute_result",
          "data": {
            "text/plain": [
              "Married      85492\n",
              "Single       71361\n",
              "Separated     1795\n",
              "Widowed        939\n",
              "Null             6\n",
              "Divorced         3\n",
              "Name: clientMaritalStatus, dtype: int64"
            ]
          },
          "metadata": {
            "tags": []
          },
          "execution_count": 72
        }
      ]
    },
    {
      "metadata": {
        "id": "swGPkIFx_778",
        "colab_type": "text"
      },
      "cell_type": "markdown",
      "source": [
        "Notes:\n",
        ">- Null Values"
      ]
    },
    {
      "metadata": {
        "id": "zUMdP3Rx_78U",
        "colab_type": "text"
      },
      "cell_type": "markdown",
      "source": [
        "### Client Avg Calls Per Day"
      ]
    },
    {
      "metadata": {
        "id": "f91woMC6_78Z",
        "colab_type": "code",
        "outputId": "e35676f5-3cc8-4f4c-f0dd-d24da4d0b41b",
        "colab": {
          "base_uri": "https://localhost:8080/",
          "height": 34
        }
      },
      "cell_type": "code",
      "source": [
        "loan_df[loan_df.clientAvgCallsPerDay.str.contains('Null')]['clientAvgCallsPerDay'].count()"
      ],
      "execution_count": 0,
      "outputs": [
        {
          "output_type": "execute_result",
          "data": {
            "text/plain": [
              "2687"
            ]
          },
          "metadata": {
            "tags": []
          },
          "execution_count": 73
        }
      ]
    },
    {
      "metadata": {
        "id": "uBmojhyq_785",
        "colab_type": "text"
      },
      "cell_type": "markdown",
      "source": [
        "Notes:\n",
        ">- 2687 \"Null\" values"
      ]
    },
    {
      "metadata": {
        "scrolled": true,
        "id": "5v4Iigm7_79E",
        "colab_type": "code",
        "outputId": "919fbf69-c38e-453b-d13d-f1a84e6114f1",
        "colab": {
          "base_uri": "https://localhost:8080/",
          "height": 561
        }
      },
      "cell_type": "code",
      "source": [
        "loan_df.dtypes"
      ],
      "execution_count": 0,
      "outputs": [
        {
          "output_type": "execute_result",
          "data": {
            "text/plain": [
              "clientId                       int64\n",
              "clientIncome                 float64\n",
              "incomeVerified                object\n",
              "clientAge                      int64\n",
              "clientGender                  object\n",
              "clientMaritalStatus           object\n",
              "clientLoanPurpose             object\n",
              "clientResidentialStauts       object\n",
              "clientState                   object\n",
              "clientTimeAtEmployer          object\n",
              "clientNumberPhoneContacts     object\n",
              "clientAvgCallsPerDay          object\n",
              "loanId                        object\n",
              "loanType                      object\n",
              "loanNumber                     int64\n",
              "applicationDate               object\n",
              "approvalDate                  object\n",
              "declinedDate                  object\n",
              "disbursementDate              object\n",
              "payout_status                 object\n",
              "dueDate                       object\n",
              "paidAt                        object\n",
              "loanAmount                     int64\n",
              "interestRate                 float64\n",
              "loanTerm                       int64\n",
              "max_amount_taken               int64\n",
              "max_tenor_taken                int64\n",
              "firstPaymentDefault            int64\n",
              "firstPaymentRatio            float64\n",
              "firstDueDate                  object\n",
              "loanDefault                    int64\n",
              "dtype: object"
            ]
          },
          "metadata": {
            "tags": []
          },
          "execution_count": 74
        }
      ]
    },
    {
      "metadata": {
        "id": "PKQVaFSV_79Z",
        "colab_type": "text"
      },
      "cell_type": "markdown",
      "source": [
        "Note:\n",
        ">- Wrong datatypes"
      ]
    },
    {
      "metadata": {
        "id": "jXPfOVm9_79k",
        "colab_type": "text"
      },
      "cell_type": "markdown",
      "source": [
        "### `Action Points`"
      ]
    },
    {
      "metadata": {
        "id": "6u0vao1N_79o",
        "colab_type": "text"
      },
      "cell_type": "markdown",
      "source": [
        "#### Qaulity Data\n",
        "> 1. Fix all Null values in client state.\n",
        "2. Make the state value Lagos unique.\n",
        "3. Replace the value \"Ojo\" with lagos. Ojo is a local government in Lagos.\n",
        "4. Rename the column `clientResidentialStauts`.\n",
        "5. Fix all Null values in `clientResidentialStauts`.\n",
        "6. Fix all Null values in `clientTimeAtEmployer`.\n",
        "7. Fix all null and negative values in `clientTimeAtEmployer`\n",
        "8. Remove all non-numeric characters in `clientTimeAtEmployer`.\n",
        "9. Fix all Null values in `clientAvgCallsPerDay`.\n",
        "10. Fix all Null Values in `clientMaritalStatus`.\n",
        "11. The terms separated and divorced are a bit confusing. I will create a new column, `isMarried`, to signify clients with and without partners `{\"Married\":1, \"Not Married\":0}`\n",
        "12. I will use Binary Encoding to encode client gender `{Male:1, Female:0}`.\n",
        "13. Change the income verified column to binary\n",
        "\n",
        "#### Tidy Data\n",
        ">14. Fix all wrong datatypes (datetime, category, numeric, etc.)"
      ]
    },
    {
      "metadata": {
        "id": "ad48wVt5_794",
        "colab_type": "text"
      },
      "cell_type": "markdown",
      "source": [
        "## Data Cleaning\n",
        "It is always advisable to make a copy of your dataframe before performing any action on it. This helps to refer to previous versions of the dataframe."
      ]
    },
    {
      "metadata": {
        "id": "OZwWyO62_79-",
        "colab_type": "code",
        "colab": {}
      },
      "cell_type": "code",
      "source": [
        "# copy dataframe\n",
        "loan_clean = loan_df.copy()"
      ],
      "execution_count": 0,
      "outputs": []
    },
    {
      "metadata": {
        "id": "4TlGj3M5_7-M",
        "colab_type": "text"
      },
      "cell_type": "markdown",
      "source": [
        "### Client State"
      ]
    },
    {
      "metadata": {
        "id": "8vyqUbam_7-R",
        "colab_type": "text"
      },
      "cell_type": "markdown",
      "source": [
        "I will go on to strip trailing white spaces from the values (this should solve the problem of having the state `Lagos` as two different values). Since Ojo is a local government in Lagos it will be replaced with the value `Lagos`."
      ]
    },
    {
      "metadata": {
        "id": "UuwApcJs1rNv",
        "colab_type": "code",
        "colab": {}
      },
      "cell_type": "code",
      "source": [
        "# rows will null value\n",
        "null_state = loan_clean[loan_clean.clientState.isin(['Null'])]\n",
        "# drop the selected rows\n",
        "loan_clean.drop(null_state.index, inplace=True)\n",
        "# remove trailing white spaces\n",
        "# replace \"OJO\" with \"LAGOS\"\n",
        "loan_clean['clientState'] = loan_clean.clientState.str.strip().replace('OJO', 'LAGOS')"
      ],
      "execution_count": 0,
      "outputs": []
    },
    {
      "metadata": {
        "id": "7wofCE11_7-5",
        "colab_type": "text"
      },
      "cell_type": "markdown",
      "source": [
        "### Client Residential Status\n",
        "I will rename the column `clientResidentialStauts` to `clientResidentialStatus`. Drop rows will null values."
      ]
    },
    {
      "metadata": {
        "id": "nR_lAHOT38Az",
        "colab_type": "code",
        "colab": {}
      },
      "cell_type": "code",
      "source": [
        "# rename column\n",
        "loan_clean.columns = loan_clean.columns.str.replace('clientResidentialStauts', 'clientResidentialStatus')\n",
        "#confirm that that column has been renamed\n",
        "assert loan_clean.columns.contains('clientResidentialStauts') == False\n",
        "#select rows will null values\n",
        "null_resident = loan_clean[loan_clean.clientResidentialStatus.isin(['Null'])]\n",
        "# drop the selected rows\n",
        "loan_clean.drop(null_resident.index, inplace=True)"
      ],
      "execution_count": 0,
      "outputs": []
    },
    {
      "metadata": {
        "id": "SUFtAlvo_7_O",
        "colab_type": "text"
      },
      "cell_type": "markdown",
      "source": [
        "### Client Time At Employer\n",
        "For the duration of time clients have spent with their employee, I will I will drop the rows will null values, I will also do the same for all negative values. It seems that negative values indicate that the client has been unemployed for a while or the value was wrongly inputed. And lastly, I will remove all non-numeric characters."
      ]
    },
    {
      "metadata": {
        "id": "UYERTvve4v-X",
        "colab_type": "code",
        "colab": {}
      },
      "cell_type": "code",
      "source": [
        "# rows to drop\n",
        "cte_rows_to_drop = loan_clean[loan_clean.clientTimeAtEmployer.isin(['Null', '-6', '-7', '-5'])]\n",
        "# drop rows\n",
        "loan_clean.drop(cte_rows_to_drop.index, inplace=True)\n",
        "# replace 36+ with 36\n",
        "to_replace = {'36+': '36'}\n",
        "# perform replacement\n",
        "loan_clean.clientTimeAtEmployer.replace(to_replace, inplace=True)"
      ],
      "execution_count": 0,
      "outputs": []
    },
    {
      "metadata": {
        "id": "wmwdMEzx_7_r",
        "colab_type": "text"
      },
      "cell_type": "markdown",
      "source": [
        "### Client Avg Calls PerDay\n",
        "I will just drop this column"
      ]
    },
    {
      "metadata": {
        "id": "s0KtWFpW_7_u",
        "colab_type": "code",
        "colab": {}
      },
      "cell_type": "code",
      "source": [
        "loan_clean.drop(['clientAvgCallsPerDay'], axis=1, inplace=True)\n",
        "# replace nulls with 0\n",
        "#loan_clean.clientAvgCallsPerDay.replace('Null', np.nan, inplace=True)\n",
        "# confirm changes\n",
        "#assert loan_clean.clientAvgCallsPerDay.isin(['Null']).any() == False"
      ],
      "execution_count": 0,
      "outputs": []
    },
    {
      "metadata": {
        "id": "vBmm6kpF_7_5",
        "colab_type": "text"
      },
      "cell_type": "markdown",
      "source": [
        "### Client Marital Status\n",
        "Drop rows with null values."
      ]
    },
    {
      "metadata": {
        "id": "K3vvB85h9BWz",
        "colab_type": "code",
        "colab": {}
      },
      "cell_type": "code",
      "source": [
        "# null marital status\n",
        "null_m_status = loan_clean[loan_clean.clientMaritalStatus.isin(['Null'])]\n",
        "# drop null marital status\n",
        "loan_clean.drop(null_m_status.index, inplace=True)\n",
        "\n",
        "#replaces null values\n",
        "#loan_clean.clientMaritalStatus.replace('Null', loan_clean.clientMaritalStatus.mode()[0], inplace=True)\n",
        "#assert loan_clean.clientMaritalStatus.isin(['Null']).any() == False\n",
        "#extract new feature, isMarried\n",
        "#loan_clean['isMarried'] = np.where(loan_clean['clientMaritalStatus'].str.contains('Married'), 1, 0)\n",
        "#loan_clean.drop(['clientMaritalStatus'], axis=1, inplace=True)"
      ],
      "execution_count": 0,
      "outputs": []
    },
    {
      "metadata": {
        "id": "wAg3Y4Bd_8AL",
        "colab_type": "text"
      },
      "cell_type": "markdown",
      "source": [
        "### Client Gender\n",
        "I will use Binary Encoding to encode client gender `{Male:1, Female:0}`."
      ]
    },
    {
      "metadata": {
        "id": "Z3yyqR0r_8AX",
        "colab_type": "code",
        "colab": {}
      },
      "cell_type": "code",
      "source": [
        "loan_clean['clientGender'] = np.where(loan_clean['clientGender'].str.contains('FEMALE'), 0, 1,)"
      ],
      "execution_count": 0,
      "outputs": []
    },
    {
      "metadata": {
        "id": "2jTSVDf8_8Ao",
        "colab_type": "text"
      },
      "cell_type": "markdown",
      "source": [
        "### Income Verified\n",
        "Change the income verified column to binary"
      ]
    },
    {
      "metadata": {
        "id": "AHgkGI4H-PYm",
        "colab_type": "code",
        "colab": {}
      },
      "cell_type": "code",
      "source": [
        "# Null values\n",
        "null_iv = loan_clean[loan_clean.incomeVerified.isin(['Null'])]\n",
        "# drop nulls\n",
        "loan_clean.drop(null_iv.index, inplace=True)\n",
        "# Binary encode incomeVeried\n",
        "loan_clean['incomeVerified'] = np.where(loan_clean['incomeVerified'].str.contains('TRUE'), 1, 0)"
      ],
      "execution_count": 0,
      "outputs": []
    },
    {
      "metadata": {
        "id": "sildihUE_8A5",
        "colab_type": "text"
      },
      "cell_type": "markdown",
      "source": [
        "### Futher data cleaning"
      ]
    },
    {
      "metadata": {
        "id": "pzadnZRm_8A8",
        "colab_type": "text"
      },
      "cell_type": "markdown",
      "source": [
        "declinedDate"
      ]
    },
    {
      "metadata": {
        "id": "1NHjvFKk_8BD",
        "colab_type": "code",
        "colab": {}
      },
      "cell_type": "code",
      "source": [
        "# replace null values with np.nan\n",
        "loan_clean.declinedDate.replace('Null', np.nan, inplace=True)"
      ],
      "execution_count": 0,
      "outputs": []
    },
    {
      "metadata": {
        "id": "VmVTZl50_8BP",
        "colab_type": "code",
        "outputId": "da2053f6-af4e-4817-fa41-59076b435837",
        "colab": {
          "base_uri": "https://localhost:8080/",
          "height": 266
        }
      },
      "cell_type": "code",
      "source": [
        "# declined loans\n",
        "mask = loan_clean.declinedDate.notnull()\n",
        "declined_loans = loan_clean[mask]\n",
        "declined_loans[['declinedDate', 'loanDefault']]"
      ],
      "execution_count": 0,
      "outputs": [
        {
          "output_type": "execute_result",
          "data": {
            "text/html": [
              "<div>\n",
              "<style scoped>\n",
              "    .dataframe tbody tr th:only-of-type {\n",
              "        vertical-align: middle;\n",
              "    }\n",
              "\n",
              "    .dataframe tbody tr th {\n",
              "        vertical-align: top;\n",
              "    }\n",
              "\n",
              "    .dataframe thead th {\n",
              "        text-align: right;\n",
              "    }\n",
              "</style>\n",
              "<table border=\"1\" class=\"dataframe\">\n",
              "  <thead>\n",
              "    <tr style=\"text-align: right;\">\n",
              "      <th></th>\n",
              "      <th>declinedDate</th>\n",
              "      <th>loanDefault</th>\n",
              "    </tr>\n",
              "  </thead>\n",
              "  <tbody>\n",
              "    <tr>\n",
              "      <th>5936</th>\n",
              "      <td>5/7/2018</td>\n",
              "      <td>1</td>\n",
              "    </tr>\n",
              "    <tr>\n",
              "      <th>7063</th>\n",
              "      <td>4/18/2018</td>\n",
              "      <td>1</td>\n",
              "    </tr>\n",
              "    <tr>\n",
              "      <th>17321</th>\n",
              "      <td>4/19/2018</td>\n",
              "      <td>1</td>\n",
              "    </tr>\n",
              "    <tr>\n",
              "      <th>23736</th>\n",
              "      <td>9/5/2018</td>\n",
              "      <td>1</td>\n",
              "    </tr>\n",
              "    <tr>\n",
              "      <th>28414</th>\n",
              "      <td>11/1/2018</td>\n",
              "      <td>1</td>\n",
              "    </tr>\n",
              "    <tr>\n",
              "      <th>39185</th>\n",
              "      <td>4/18/2018</td>\n",
              "      <td>1</td>\n",
              "    </tr>\n",
              "    <tr>\n",
              "      <th>52882</th>\n",
              "      <td>11/1/2018</td>\n",
              "      <td>1</td>\n",
              "    </tr>\n",
              "  </tbody>\n",
              "</table>\n",
              "</div>"
            ],
            "text/plain": [
              "      declinedDate  loanDefault\n",
              "5936      5/7/2018            1\n",
              "7063     4/18/2018            1\n",
              "17321    4/19/2018            1\n",
              "23736     9/5/2018            1\n",
              "28414    11/1/2018            1\n",
              "39185    4/18/2018            1\n",
              "52882    11/1/2018            1"
            ]
          },
          "metadata": {
            "tags": []
          },
          "execution_count": 84
        }
      ]
    },
    {
      "metadata": {
        "id": "CCJBxj1W_8Bg",
        "colab_type": "text"
      },
      "cell_type": "markdown",
      "source": [
        "For clients whose loans were declined, we see here that they defaulted in loan payment. This is not true, since they never got the loan. This information is misleading. I will go on to leave out the affected rows from the cleaned dataframe."
      ]
    },
    {
      "metadata": {
        "id": "JBF_RUDb_8Bk",
        "colab_type": "code",
        "colab": {}
      },
      "cell_type": "code",
      "source": [
        "# filter out rows where dateDeclined is not null\n",
        "loan_clean = loan_clean.loc[~mask]\n",
        "# confirm\n",
        "assert loan_clean.declinedDate.notnull().all() == False"
      ],
      "execution_count": 0,
      "outputs": []
    },
    {
      "metadata": {
        "id": "F47ieuZV_8CJ",
        "colab_type": "text"
      },
      "cell_type": "markdown",
      "source": [
        "I will now go on to drop the following columns\n",
        "- declinedDate -- it is no longer of any use.\n",
        "- dueDate and paidDate "
      ]
    },
    {
      "metadata": {
        "id": "XkKzHKXr_8CL",
        "colab_type": "code",
        "colab": {}
      },
      "cell_type": "code",
      "source": [
        "#drop columns\n",
        "loan_clean.drop(['dueDate', 'paidAt', 'declinedDate', 'loanId', 'loanType',\n",
        "               'disbursementDate', 'payout_status',\n",
        "                'firstDueDate'], axis= 1, inplace=True)"
      ],
      "execution_count": 0,
      "outputs": []
    },
    {
      "metadata": {
        "id": "vhPhWHUl_8DF",
        "colab_type": "code",
        "colab": {}
      },
      "cell_type": "code",
      "source": [
        "# create dummy variables\n",
        "loan_clean = pd.get_dummies(loan_clean, columns=['clientState'], prefix=['stateIs'])"
      ],
      "execution_count": 0,
      "outputs": []
    },
    {
      "metadata": {
        "id": "VOKDcbMP_8DU",
        "colab_type": "code",
        "colab": {}
      },
      "cell_type": "code",
      "source": [
        "new_df = loan_clean.copy()"
      ],
      "execution_count": 0,
      "outputs": []
    },
    {
      "metadata": {
        "id": "Z0MLz4oC93vS",
        "colab_type": "text"
      },
      "cell_type": "markdown",
      "source": [
        "Create new column `monthlyPyament`"
      ]
    },
    {
      "metadata": {
        "id": "JCL9qPTg_8Di",
        "colab_type": "code",
        "colab": {}
      },
      "cell_type": "code",
      "source": [
        "loan_amount = new_df.loanAmount.values\n",
        "interest_rate = new_df.interestRate.values/100\n",
        "interest = loan_amount*interest_rate\n",
        "payback_amount = loan_amount + interest"
      ],
      "execution_count": 0,
      "outputs": []
    },
    {
      "metadata": {
        "id": "Xf9V_S4__8EJ",
        "colab_type": "code",
        "colab": {}
      },
      "cell_type": "code",
      "source": [
        "# convert loan terms to days\n",
        "test = []\n",
        "for item in new_df.loanTerm:\n",
        "    if item == 60:\n",
        "        test.append(item/2)\n",
        "    elif item ==90:\n",
        "        test.append(item/3)\n",
        "    else:\n",
        "        test.append(item/6)"
      ],
      "execution_count": 0,
      "outputs": []
    },
    {
      "metadata": {
        "id": "HmnssiRW_8EV",
        "colab_type": "code",
        "colab": {}
      },
      "cell_type": "code",
      "source": [
        "#new column monthPayment\n",
        "new_df['monthlyPayment']= payback_amount/test"
      ],
      "execution_count": 0,
      "outputs": []
    },
    {
      "metadata": {
        "id": "O-TbE8U7_8FZ",
        "colab_type": "code",
        "colab": {}
      },
      "cell_type": "code",
      "source": [
        "#cat_cols = ['clientGender', 'clientGender', 'clientLoanPurpose', 'loanTerm', 'loanDefault', 'firstPaymentDefault']\n",
        "#for col in cat_cols:\n",
        "#    new_df[col] = new_df[col].astype('category'\n",
        "# change to numeric\n",
        "new_df.clientTimeAtEmployer = pd.to_numeric(new_df.clientTimeAtEmployer)"
      ],
      "execution_count": 0,
      "outputs": []
    },
    {
      "metadata": {
        "id": "yhcxs8Kr_8Fs",
        "colab_type": "code",
        "colab": {}
      },
      "cell_type": "code",
      "source": [
        "# create dummy variables\n",
        "new_df = pd.get_dummies(new_df, columns=['clientLoanPurpose'], prefix=['purpose'])\n",
        "new_df = pd.get_dummies(new_df, columns=['loanTerm'], prefix=['term'])\n",
        "new_df = pd.get_dummies(new_df, columns=['clientMaritalStatus'], prefix=['MaritalStatusIs'])\n",
        "new_df = pd.get_dummies(new_df, columns=['clientResidentialStatus'], prefix=['RS'])"
      ],
      "execution_count": 0,
      "outputs": []
    },
    {
      "metadata": {
        "id": "pcEZgeaD_8Ga",
        "colab_type": "code",
        "colab": {}
      },
      "cell_type": "code",
      "source": [
        "#to_cat = ['purpose_business', 'purpose_education', 'purpose_house', 'purpose_medical', 'purpose_other']\n",
        "#for col in to_cat:\n",
        "#    new_df[col] = new_df[col].astype('category')"
      ],
      "execution_count": 0,
      "outputs": []
    },
    {
      "metadata": {
        "id": "K_IPfz2G_8Gs",
        "colab_type": "code",
        "outputId": "3bd074b6-75e0-4304-d6f4-c9ba457a9ba4",
        "colab": {
          "base_uri": "https://localhost:8080/",
          "height": 34
        }
      },
      "cell_type": "code",
      "source": [
        "for col in new_df.columns:\n",
        "    if new_df[col].astype(str).isin(['Null']).any() == True:\n",
        "        new_df[col].replace('Null', 0, inplace=True)\n",
        "        print(col)"
      ],
      "execution_count": 0,
      "outputs": [
        {
          "output_type": "stream",
          "text": [
            "clientNumberPhoneContacts\n"
          ],
          "name": "stdout"
        }
      ]
    },
    {
      "metadata": {
        "id": "b4i529vKoPB-",
        "colab_type": "text"
      },
      "cell_type": "markdown",
      "source": [
        "## Is the dataset balanced?"
      ]
    },
    {
      "metadata": {
        "id": "rikb3r3pj0sq",
        "colab_type": "code",
        "outputId": "81df1669-ac75-46ab-81cf-2d823a00d59d",
        "colab": {
          "base_uri": "https://localhost:8080/",
          "height": 51
        }
      },
      "cell_type": "code",
      "source": [
        "defualt  = new_df.loanDefault.value_counts()[1]/len(new_df) * 100\n",
        "non_default = new_df.loanDefault.value_counts()[0]/len(new_df) * 100\n",
        "print('Bad loans: %.2f%%' % (defualt))\n",
        "print('Good loans: %.2f%%' % (non_default))                                                  "
      ],
      "execution_count": 0,
      "outputs": [
        {
          "output_type": "stream",
          "text": [
            "Bad loans: 27.81%\n",
            "Good loans: 72.19%\n"
          ],
          "name": "stdout"
        }
      ]
    },
    {
      "metadata": {
        "id": "-cmewgEToDiP",
        "colab_type": "text"
      },
      "cell_type": "markdown",
      "source": [
        "This implies that there is 1 bad loan (default) for every 3 good loans (non default). This defintely is not too good for the company. And with approximately 72% of this dataset representing good loans., it means this dataset is inbalanced. I will balance the data by over sampling the under represented class."
      ]
    },
    {
      "metadata": {
        "id": "k7aBNeg24l3G",
        "colab_type": "code",
        "colab": {}
      },
      "cell_type": "code",
      "source": [
        "# drop columns\n",
        "new_df.drop(['clientId',  'clientNumberPhoneContacts', 'applicationDate', 'approvalDate'], axis =1, inplace=True)"
      ],
      "execution_count": 0,
      "outputs": []
    },
    {
      "metadata": {
        "id": "_t7WLLyGABjY",
        "colab_type": "text"
      },
      "cell_type": "markdown",
      "source": [
        "Our features of interest should have a correlation of atleast .2 with the response variable, loanDefault."
      ]
    },
    {
      "metadata": {
        "id": "TohcVY1C2GEw",
        "colab_type": "code",
        "colab": {}
      },
      "cell_type": "code",
      "source": [
        "# correlation\n",
        "cast = new_df.copy()\n",
        "for col in cast.columns:\n",
        "    cast[col] = pd.to_numeric(cast[col])   \n",
        "highly_correlated_features = new_df.columns[cast.corr()['loanDefault'].abs() >= .2]"
      ],
      "execution_count": 0,
      "outputs": []
    },
    {
      "metadata": {
        "id": "uEnSnGlM5pzJ",
        "colab_type": "code",
        "colab": {}
      },
      "cell_type": "code",
      "source": [
        "imp_features = new_df[highly_correlated_features]"
      ],
      "execution_count": 0,
      "outputs": []
    },
    {
      "metadata": {
        "id": "MkqG-4F_DrFK",
        "colab_type": "code",
        "outputId": "6cd4ca2a-9add-4e29-c7db-0927ed229282",
        "colab": {
          "base_uri": "https://localhost:8080/",
          "height": 204
        }
      },
      "cell_type": "code",
      "source": [
        "imp_features.head()"
      ],
      "execution_count": 0,
      "outputs": [
        {
          "output_type": "execute_result",
          "data": {
            "text/html": [
              "<div>\n",
              "<style scoped>\n",
              "    .dataframe tbody tr th:only-of-type {\n",
              "        vertical-align: middle;\n",
              "    }\n",
              "\n",
              "    .dataframe tbody tr th {\n",
              "        vertical-align: top;\n",
              "    }\n",
              "\n",
              "    .dataframe thead th {\n",
              "        text-align: right;\n",
              "    }\n",
              "</style>\n",
              "<table border=\"1\" class=\"dataframe\">\n",
              "  <thead>\n",
              "    <tr style=\"text-align: right;\">\n",
              "      <th></th>\n",
              "      <th>firstPaymentDefault</th>\n",
              "      <th>firstPaymentRatio</th>\n",
              "      <th>loanDefault</th>\n",
              "    </tr>\n",
              "  </thead>\n",
              "  <tbody>\n",
              "    <tr>\n",
              "      <th>0</th>\n",
              "      <td>0</td>\n",
              "      <td>0.0</td>\n",
              "      <td>0</td>\n",
              "    </tr>\n",
              "    <tr>\n",
              "      <th>1</th>\n",
              "      <td>0</td>\n",
              "      <td>0.0</td>\n",
              "      <td>0</td>\n",
              "    </tr>\n",
              "    <tr>\n",
              "      <th>2</th>\n",
              "      <td>1</td>\n",
              "      <td>0.0</td>\n",
              "      <td>1</td>\n",
              "    </tr>\n",
              "    <tr>\n",
              "      <th>3</th>\n",
              "      <td>0</td>\n",
              "      <td>0.0</td>\n",
              "      <td>0</td>\n",
              "    </tr>\n",
              "    <tr>\n",
              "      <th>4</th>\n",
              "      <td>1</td>\n",
              "      <td>0.0</td>\n",
              "      <td>1</td>\n",
              "    </tr>\n",
              "  </tbody>\n",
              "</table>\n",
              "</div>"
            ],
            "text/plain": [
              "   firstPaymentDefault  firstPaymentRatio  loanDefault\n",
              "0                    0                0.0            0\n",
              "1                    0                0.0            0\n",
              "2                    1                0.0            1\n",
              "3                    0                0.0            0\n",
              "4                    1                0.0            1"
            ]
          },
          "metadata": {
            "tags": []
          },
          "execution_count": 100
        }
      ]
    },
    {
      "metadata": {
        "id": "48wuWFuaA2Yi",
        "colab_type": "text"
      },
      "cell_type": "markdown",
      "source": [
        "Only two variable have a correlation of atleast .2 with the response variable."
      ]
    },
    {
      "metadata": {
        "id": "Z4Ex-pm_wjrc",
        "colab_type": "text"
      },
      "cell_type": "markdown",
      "source": [
        "## Split the dataset into features and lables"
      ]
    },
    {
      "metadata": {
        "id": "mgkITGb9_8H0",
        "colab_type": "code",
        "colab": {}
      },
      "cell_type": "code",
      "source": [
        "#labels\n",
        "labels = np.array(imp_features['loanDefault'])\n",
        "#features\n",
        "features = np.array(imp_features.drop(['loanDefault'], axis=1))"
      ],
      "execution_count": 0,
      "outputs": []
    },
    {
      "metadata": {
        "id": "Ho69d_Xlw5xy",
        "colab_type": "text"
      },
      "cell_type": "markdown",
      "source": [
        "## Random Forrest Classification"
      ]
    },
    {
      "metadata": {
        "id": "Se7W8NWO_8IW",
        "colab_type": "code",
        "colab": {}
      },
      "cell_type": "code",
      "source": [
        "# import packages\n",
        "from sklearn.model_selection import train_test_split\n",
        "from sklearn.ensemble import RandomForestClassifier\n",
        "from imblearn.over_sampling import SMOTE"
      ],
      "execution_count": 0,
      "outputs": []
    },
    {
      "metadata": {
        "id": "NYZVxF-9_8Ih",
        "colab_type": "text"
      },
      "cell_type": "markdown",
      "source": [
        "Split dataset into training and validation set."
      ]
    },
    {
      "metadata": {
        "id": "XnOqLGIi_8Io",
        "colab_type": "code",
        "colab": {}
      },
      "cell_type": "code",
      "source": [
        "train_features, val_features, train_labels, val_labels = train_test_split(features, labels, test_size=0.2, random_state=0)"
      ],
      "execution_count": 0,
      "outputs": []
    },
    {
      "metadata": {
        "id": "kk17zTVg_Ukg",
        "colab_type": "text"
      },
      "cell_type": "markdown",
      "source": [
        "Split traning set into training and testing set."
      ]
    },
    {
      "metadata": {
        "id": "8gPmsWmpEQ-w",
        "colab_type": "code",
        "colab": {}
      },
      "cell_type": "code",
      "source": [
        "train_features, test_features, train_labels, test_labels = train_test_split(train_features, train_labels, test_size=0.25, random_state=42)"
      ],
      "execution_count": 0,
      "outputs": []
    },
    {
      "metadata": {
        "id": "x3IehdUh_jov",
        "colab_type": "text"
      },
      "cell_type": "markdown",
      "source": [
        "### Over sampling"
      ]
    },
    {
      "metadata": {
        "id": "AVA6iTOBBsG5",
        "colab_type": "code",
        "colab": {}
      },
      "cell_type": "code",
      "source": [
        "oversampler=SMOTE(random_state=56)\n",
        "os_features,os_labels=oversampler.fit_sample(train_features,train_labels)"
      ],
      "execution_count": 0,
      "outputs": []
    },
    {
      "metadata": {
        "id": "EhDw4oRQ_8Ja",
        "colab_type": "code",
        "outputId": "800f4f21-ba2c-432c-8dd2-e9fba91b8ea3",
        "colab": {
          "base_uri": "https://localhost:8080/",
          "height": 136
        }
      },
      "cell_type": "code",
      "source": [
        "# fit the model\n",
        "classifier = RandomForestClassifier(n_estimators=500,\n",
        "                                    random_state=1000)\n",
        "#train model\n",
        "classifier.fit(os_features, os_labels)"
      ],
      "execution_count": 0,
      "outputs": [
        {
          "output_type": "execute_result",
          "data": {
            "text/plain": [
              "RandomForestClassifier(bootstrap=True, class_weight=None, criterion='gini',\n",
              "            max_depth=None, max_features='auto', max_leaf_nodes=None,\n",
              "            min_impurity_decrease=0.0, min_impurity_split=None,\n",
              "            min_samples_leaf=1, min_samples_split=2,\n",
              "            min_weight_fraction_leaf=0.0, n_estimators=500, n_jobs=None,\n",
              "            oob_score=False, random_state=1000, verbose=0,\n",
              "            warm_start=False)"
            ]
          },
          "metadata": {
            "tags": []
          },
          "execution_count": 108
        }
      ]
    },
    {
      "metadata": {
        "id": "4Wf90uWI_8KB",
        "colab_type": "code",
        "colab": {}
      },
      "cell_type": "code",
      "source": [
        "# make prediction\n",
        "y_pred = classifier.predict(test_features)"
      ],
      "execution_count": 0,
      "outputs": []
    },
    {
      "metadata": {
        "scrolled": true,
        "id": "aSK-5WL3_8Kk",
        "colab_type": "code",
        "outputId": "d312d6e7-71c4-426c-a090-e2aa5e6cbd09",
        "colab": {
          "base_uri": "https://localhost:8080/",
          "height": 346
        }
      },
      "cell_type": "code",
      "source": [
        "#metrics\n",
        "from sklearn.metrics import accuracy_score,confusion_matrix,classification_report\n",
        "accuracy=accuracy_score(test_labels,y_pred)\n",
        "print(accuracy)\n",
        "print('===================================')\n",
        "print(classification_report(test_labels,y_pred))\n",
        "print('===================================')\n",
        "c_metric=confusion_matrix(test_labels,y_pred)\n",
        "pd.crosstab(test_labels, y_pred, rownames=['Actual Result'], colnames=['Predicted Result'])"
      ],
      "execution_count": 0,
      "outputs": [
        {
          "output_type": "stream",
          "text": [
            "0.8490180828310324\n",
            "===================================\n",
            "              precision    recall  f1-score   support\n",
            "\n",
            "           0       0.90      0.89      0.89     22297\n",
            "           1       0.72      0.75      0.73      8561\n",
            "\n",
            "   micro avg       0.85      0.85      0.85     30858\n",
            "   macro avg       0.81      0.82      0.81     30858\n",
            "weighted avg       0.85      0.85      0.85     30858\n",
            "\n",
            "===================================\n"
          ],
          "name": "stdout"
        },
        {
          "output_type": "execute_result",
          "data": {
            "text/html": [
              "<div>\n",
              "<style scoped>\n",
              "    .dataframe tbody tr th:only-of-type {\n",
              "        vertical-align: middle;\n",
              "    }\n",
              "\n",
              "    .dataframe tbody tr th {\n",
              "        vertical-align: top;\n",
              "    }\n",
              "\n",
              "    .dataframe thead th {\n",
              "        text-align: right;\n",
              "    }\n",
              "</style>\n",
              "<table border=\"1\" class=\"dataframe\">\n",
              "  <thead>\n",
              "    <tr style=\"text-align: right;\">\n",
              "      <th>Predicted Result</th>\n",
              "      <th>0</th>\n",
              "      <th>1</th>\n",
              "    </tr>\n",
              "    <tr>\n",
              "      <th>Actual Result</th>\n",
              "      <th></th>\n",
              "      <th></th>\n",
              "    </tr>\n",
              "  </thead>\n",
              "  <tbody>\n",
              "    <tr>\n",
              "      <th>0</th>\n",
              "      <td>19739</td>\n",
              "      <td>2558</td>\n",
              "    </tr>\n",
              "    <tr>\n",
              "      <th>1</th>\n",
              "      <td>2101</td>\n",
              "      <td>6460</td>\n",
              "    </tr>\n",
              "  </tbody>\n",
              "</table>\n",
              "</div>"
            ],
            "text/plain": [
              "Predicted Result      0     1\n",
              "Actual Result                \n",
              "0                 19739  2558\n",
              "1                  2101  6460"
            ]
          },
          "metadata": {
            "tags": []
          },
          "execution_count": 110
        }
      ]
    },
    {
      "metadata": {
        "id": "S0O2ETGhKoUP",
        "colab_type": "code",
        "colab": {}
      },
      "cell_type": "code",
      "source": [
        "def plot_confusion_matrix(cm,\n",
        "                          target_names,\n",
        "                          title='Confusion matrix',\n",
        "                          cmap=None,\n",
        "                          normalize=True):\n",
        "    \"\"\"\n",
        "    given a sklearn confusion matrix (cm), make a nice plot\n",
        "\n",
        "    Arguments\n",
        "    ---------\n",
        "    cm:           confusion matrix from sklearn.metrics.confusion_matrix\n",
        "\n",
        "    target_names: given classification classes such as [0, 1, 2]\n",
        "                  the class names, for example: ['high', 'medium', 'low']\n",
        "\n",
        "    title:        the text to display at the top of the matrix\n",
        "\n",
        "    cmap:         the gradient of the values displayed from matplotlib.pyplot.cm\n",
        "                  see http://matplotlib.org/examples/color/colormaps_reference.html\n",
        "                  plt.get_cmap('jet') or plt.cm.Blues\n",
        "\n",
        "    normalize:    If False, plot the raw numbers\n",
        "                  If True, plot the proportions\n",
        "\n",
        "    Usage\n",
        "    -----\n",
        "    plot_confusion_matrix(cm           = cm,                  # confusion matrix created by\n",
        "                                                              # sklearn.metrics.confusion_matrix\n",
        "                          normalize    = True,                # show proportions\n",
        "                          target_names = y_labels_vals,       # list of names of the classes\n",
        "                          title        = best_estimator_name) # title of graph\n",
        "\n",
        "    Citiation\n",
        "    ---------\n",
        "    http://scikit-learn.org/stable/auto_examples/model_selection/plot_confusion_matrix.html\n",
        "\n",
        "    \"\"\"\n",
        "    import matplotlib.pyplot as plt\n",
        "    import numpy as np\n",
        "    import itertools\n",
        "\n",
        "    accuracy = np.trace(cm) / float(np.sum(cm))\n",
        "    misclass = 1 - accuracy\n",
        "\n",
        "    if cmap is None:\n",
        "        cmap = plt.get_cmap('Blues')\n",
        "\n",
        "    plt.figure(figsize=(8, 6))\n",
        "    plt.imshow(cm, interpolation='nearest', cmap=cmap)\n",
        "    plt.title(title)\n",
        "    plt.colorbar()\n",
        "\n",
        "    if target_names is not None:\n",
        "        tick_marks = np.arange(len(target_names))\n",
        "        plt.xticks(tick_marks, target_names, rotation=45)\n",
        "        plt.yticks(tick_marks, target_names)\n",
        "\n",
        "    if normalize:\n",
        "        cm = cm.astype('float') / cm.sum(axis=1)[:, np.newaxis]\n",
        "\n",
        "\n",
        "    thresh = cm.max() / 1.5 if normalize else cm.max() / 2\n",
        "    for i, j in itertools.product(range(cm.shape[0]), range(cm.shape[1])):\n",
        "        if normalize:\n",
        "            plt.text(j, i, \"{:0.4f}\".format(cm[i, j]),\n",
        "                     horizontalalignment=\"center\",\n",
        "                     color=\"white\" if cm[i, j] > thresh else \"black\")\n",
        "        else:\n",
        "            plt.text(j, i, \"{:,}\".format(cm[i, j]),\n",
        "                     horizontalalignment=\"center\",\n",
        "                     color=\"white\" if cm[i, j] > thresh else \"black\")\n",
        "\n",
        "\n",
        "    plt.tight_layout()\n",
        "    plt.ylabel('True label')\n",
        "    plt.xlabel('Predicted label\\naccuracy={:0.4f}; misclass={:0.4f}'.format(accuracy, misclass))\n",
        "    plt.show()"
      ],
      "execution_count": 0,
      "outputs": []
    },
    {
      "metadata": {
        "id": "jH7BKT0zKxF4",
        "colab_type": "code",
        "outputId": "2e4af0cb-e65e-481b-d601-cab4f1675179",
        "colab": {
          "base_uri": "https://localhost:8080/",
          "height": 463
        }
      },
      "cell_type": "code",
      "source": [
        "plot_confusion_matrix(cm           = c_metric, \n",
        "                      normalize    = True,\n",
        "                      target_names = ['0', '1'],\n",
        "                      title        = \"Confusion Matrix\")"
      ],
      "execution_count": 0,
      "outputs": [
        {
          "output_type": "display_data",
          "data": {
            "image/png": "[encoded data removed]",
            "text/plain": [
              "<Figure size 576x432 with 2 Axes>"
            ]
          },
          "metadata": {
            "tags": []
          }
        }
      ]
    },
    {
      "metadata": {
        "id": "oXjMnzSsDThk",
        "colab_type": "code",
        "outputId": "8520e5d8-08f4-4ae2-cc3d-97f93f2dc896",
        "colab": {
          "base_uri": "https://localhost:8080/",
          "height": 374
        }
      },
      "cell_type": "code",
      "source": [
        "# feature importance\n",
        "feature_imp = pd.Series(classifier.feature_importances_, index=imp_features.drop(['loanDefault'], axis=1).columns).sort_values()\n",
        "\n",
        "plt.figure(figsize=(8, 6))\n",
        "feature_imp.plot.barh();"
      ],
      "execution_count": 0,
      "outputs": [
        {
          "output_type": "display_data",
          "data": {
            "image/png": "[encoded data removed]",
            "text/plain": [
              "<Figure size 576x432 with 1 Axes>"
            ]
          },
          "metadata": {
            "tags": []
          }
        }
      ]
    },
    {
      "metadata": {
        "id": "ynQjuaAMzTbQ",
        "colab_type": "text"
      },
      "cell_type": "markdown",
      "source": [
        "## Validation"
      ]
    },
    {
      "metadata": {
        "id": "ee9TZV-2_8Kx",
        "colab_type": "code",
        "outputId": "a2fc5de5-2efb-4581-84f3-5d21d3250eda",
        "colab": {
          "base_uri": "https://localhost:8080/",
          "height": 346
        }
      },
      "cell_type": "code",
      "source": [
        "# make prediction\n",
        "val_pred = classifier.predict(val_features)\n",
        "\n",
        "#metrics\n",
        "from sklearn.metrics import accuracy_score,confusion_matrix,classification_report\n",
        "accuracy=accuracy_score(val_labels,val_pred)\n",
        "print(accuracy)\n",
        "print('===================================')\n",
        "print(classification_report(val_labels,val_pred))\n",
        "print('===================================')\n",
        "c_metric=confusion_matrix(val_labels,val_pred)\n",
        "pd.crosstab(test_labels, y_pred, rownames=['Actual Result'], colnames=['Predicted Result'])"
      ],
      "execution_count": 0,
      "outputs": [
        {
          "output_type": "stream",
          "text": [
            "0.8471709119191133\n",
            "===================================\n",
            "              precision    recall  f1-score   support\n",
            "\n",
            "           0       0.90      0.89      0.89     22374\n",
            "           1       0.71      0.75      0.73      8484\n",
            "\n",
            "   micro avg       0.85      0.85      0.85     30858\n",
            "   macro avg       0.81      0.82      0.81     30858\n",
            "weighted avg       0.85      0.85      0.85     30858\n",
            "\n",
            "===================================\n"
          ],
          "name": "stdout"
        },
        {
          "output_type": "execute_result",
          "data": {
            "text/html": [
              "<div>\n",
              "<style scoped>\n",
              "    .dataframe tbody tr th:only-of-type {\n",
              "        vertical-align: middle;\n",
              "    }\n",
              "\n",
              "    .dataframe tbody tr th {\n",
              "        vertical-align: top;\n",
              "    }\n",
              "\n",
              "    .dataframe thead th {\n",
              "        text-align: right;\n",
              "    }\n",
              "</style>\n",
              "<table border=\"1\" class=\"dataframe\">\n",
              "  <thead>\n",
              "    <tr style=\"text-align: right;\">\n",
              "      <th>Predicted Result</th>\n",
              "      <th>0</th>\n",
              "      <th>1</th>\n",
              "    </tr>\n",
              "    <tr>\n",
              "      <th>Actual Result</th>\n",
              "      <th></th>\n",
              "      <th></th>\n",
              "    </tr>\n",
              "  </thead>\n",
              "  <tbody>\n",
              "    <tr>\n",
              "      <th>0</th>\n",
              "      <td>19739</td>\n",
              "      <td>2558</td>\n",
              "    </tr>\n",
              "    <tr>\n",
              "      <th>1</th>\n",
              "      <td>2101</td>\n",
              "      <td>6460</td>\n",
              "    </tr>\n",
              "  </tbody>\n",
              "</table>\n",
              "</div>"
            ],
            "text/plain": [
              "Predicted Result      0     1\n",
              "Actual Result                \n",
              "0                 19739  2558\n",
              "1                  2101  6460"
            ]
          },
          "metadata": {
            "tags": []
          },
          "execution_count": 117
        }
      ]
    },
    {
      "metadata": {
        "id": "eK3-9pFIEwQB",
        "colab_type": "code",
        "outputId": "ed20fd13-52a6-46e1-e179-931035cb5078",
        "colab": {
          "base_uri": "https://localhost:8080/",
          "height": 463
        }
      },
      "cell_type": "code",
      "source": [
        "plot_confusion_matrix(cm           = c_metric, \n",
        "                      normalize    = True,\n",
        "                      target_names = ['0', '1'],\n",
        "                      title        = \"Confusion Matrix\")"
      ],
      "execution_count": 0,
      "outputs": [
        {
          "output_type": "display_data",
          "data": {
            "image/png": "[encoded data removed]",
            "text/plain": [
              "<Figure size 576x432 with 2 Axes>"
            ]
          },
          "metadata": {
            "tags": []
          }
        }
      ]
    },
    {
      "metadata": {
        "id": "49MmnfE6ICCg",
        "colab_type": "text"
      },
      "cell_type": "markdown",
      "source": [
        "The model performs quite well. It predicted 74.65% of defaulted loans correctly. This value was 75.46% during the traing."
      ]
    },
    {
      "metadata": {
        "id": "yJJu-h1F8sff",
        "colab_type": "text"
      },
      "cell_type": "markdown",
      "source": [
        "## Artificial Neural Network"
      ]
    },
    {
      "metadata": {
        "id": "P81qS6B78n2e",
        "colab_type": "code",
        "outputId": "f844ebd6-4784-495c-984a-a3bb1ddbb5b8",
        "colab": {
          "base_uri": "https://localhost:8080/",
          "height": 3434
        }
      },
      "cell_type": "code",
      "source": [
        "from sklearn.preprocessing import StandardScaler\n",
        "sc = StandardScaler()\n",
        "X = features\n",
        "X = sc.fit_transform(X)\n",
        "\n",
        "from keras import Sequential\n",
        "from keras.layers import Dense\n",
        "\n",
        "classifier = Sequential()\n",
        "#First Hidden Layer\n",
        "classifier.add(Dense(4, activation='relu', kernel_initializer='random_normal', input_dim=2))\n",
        "\n",
        "#Second  Hidden Layer\n",
        "classifier.add(Dense(4, activation='relu', kernel_initializer='random_normal'))\n",
        "\n",
        "#Output Layer\n",
        "classifier.add(Dense(1, activation='sigmoid', kernel_initializer='random_normal'))\n",
        "\n",
        "#Compiling the neural network\n",
        "classifier.compile(optimizer ='adam',loss='binary_crossentropy', metrics =['accuracy'])\n",
        "\n",
        "#Fitting the data to the training dataset\n",
        "classifier.fit(os_features,os_labels, batch_size=10, epochs=100)"
      ],
      "execution_count": 0,
      "outputs": [
        {
          "output_type": "stream",
          "text": [
            "Epoch 1/100\n",
            "133434/133434 [==============================] - 13s 98us/step - loss: 0.4423 - acc: 0.8123\n",
            "Epoch 2/100\n",
            "133434/133434 [==============================] - 13s 95us/step - loss: 0.4274 - acc: 0.8153\n",
            "Epoch 3/100\n",
            "133434/133434 [==============================] - 13s 95us/step - loss: 0.4271 - acc: 0.8153\n",
            "Epoch 4/100\n",
            "133434/133434 [==============================] - 13s 96us/step - loss: 0.4270 - acc: 0.8153\n",
            "Epoch 5/100\n",
            "133434/133434 [==============================] - 13s 96us/step - loss: 0.4270 - acc: 0.8153\n",
            "Epoch 6/100\n",
            "133434/133434 [==============================] - 13s 96us/step - loss: 0.4269 - acc: 0.8153\n",
            "Epoch 7/100\n",
            "133434/133434 [==============================] - 13s 95us/step - loss: 0.4269 - acc: 0.8153\n",
            "Epoch 8/100\n",
            "133434/133434 [==============================] - 13s 96us/step - loss: 0.4269 - acc: 0.8153\n",
            "Epoch 9/100\n",
            "133434/133434 [==============================] - 13s 96us/step - loss: 0.4269 - acc: 0.8153\n",
            "Epoch 10/100\n",
            "133434/133434 [==============================] - 13s 96us/step - loss: 0.4268 - acc: 0.8153\n",
            "Epoch 11/100\n",
            "133434/133434 [==============================] - 13s 98us/step - loss: 0.4268 - acc: 0.8153\n",
            "Epoch 12/100\n",
            "133434/133434 [==============================] - 13s 95us/step - loss: 0.4268 - acc: 0.8153\n",
            "Epoch 13/100\n",
            "133434/133434 [==============================] - 13s 96us/step - loss: 0.4268 - acc: 0.8153\n",
            "Epoch 14/100\n",
            "133434/133434 [==============================] - 13s 95us/step - loss: 0.4268 - acc: 0.8153\n",
            "Epoch 15/100\n",
            "133434/133434 [==============================] - 13s 95us/step - loss: 0.4268 - acc: 0.8153\n",
            "Epoch 16/100\n",
            "133434/133434 [==============================] - 13s 95us/step - loss: 0.4268 - acc: 0.8153\n",
            "Epoch 17/100\n",
            "133434/133434 [==============================] - 13s 96us/step - loss: 0.4268 - acc: 0.8153\n",
            "Epoch 18/100\n",
            "133434/133434 [==============================] - 13s 96us/step - loss: 0.4268 - acc: 0.8153\n",
            "Epoch 19/100\n",
            "133434/133434 [==============================] - 13s 96us/step - loss: 0.4268 - acc: 0.8153\n",
            "Epoch 20/100\n",
            "133434/133434 [==============================] - 13s 96us/step - loss: 0.4267 - acc: 0.8153\n",
            "Epoch 21/100\n",
            "133434/133434 [==============================] - 13s 95us/step - loss: 0.4268 - acc: 0.8153\n",
            "Epoch 22/100\n",
            "133434/133434 [==============================] - 13s 95us/step - loss: 0.4268 - acc: 0.8153\n",
            "Epoch 23/100\n",
            "133434/133434 [==============================] - 14s 104us/step - loss: 0.4268 - acc: 0.8153\n",
            "Epoch 24/100\n",
            "133434/133434 [==============================] - 13s 95us/step - loss: 0.4268 - acc: 0.8153\n",
            "Epoch 25/100\n",
            "133434/133434 [==============================] - 13s 95us/step - loss: 0.4268 - acc: 0.8153\n",
            "Epoch 26/100\n",
            "133434/133434 [==============================] - 13s 95us/step - loss: 0.4268 - acc: 0.8153\n",
            "Epoch 27/100\n",
            "133434/133434 [==============================] - 13s 94us/step - loss: 0.4268 - acc: 0.8153\n",
            "Epoch 28/100\n",
            "133434/133434 [==============================] - 13s 95us/step - loss: 0.4268 - acc: 0.8153\n",
            "Epoch 29/100\n",
            "133434/133434 [==============================] - 13s 94us/step - loss: 0.4268 - acc: 0.8153\n",
            "Epoch 30/100\n",
            "133434/133434 [==============================] - 13s 96us/step - loss: 0.4268 - acc: 0.8153\n",
            "Epoch 31/100\n",
            "133434/133434 [==============================] - 13s 95us/step - loss: 0.4268 - acc: 0.8153\n",
            "Epoch 32/100\n",
            "133434/133434 [==============================] - 13s 95us/step - loss: 0.4268 - acc: 0.8153\n",
            "Epoch 33/100\n",
            "133434/133434 [==============================] - 13s 95us/step - loss: 0.4267 - acc: 0.8153\n",
            "Epoch 34/100\n",
            "133434/133434 [==============================] - 13s 95us/step - loss: 0.4268 - acc: 0.8153\n",
            "Epoch 35/100\n",
            "133434/133434 [==============================] - 13s 97us/step - loss: 0.4268 - acc: 0.8153\n",
            "Epoch 36/100\n",
            "133434/133434 [==============================] - 13s 95us/step - loss: 0.4268 - acc: 0.8153\n",
            "Epoch 37/100\n",
            "133434/133434 [==============================] - 13s 95us/step - loss: 0.4268 - acc: 0.8153\n",
            "Epoch 38/100\n",
            "133434/133434 [==============================] - 13s 95us/step - loss: 0.4267 - acc: 0.8153\n",
            "Epoch 39/100\n",
            "133434/133434 [==============================] - 13s 94us/step - loss: 0.4268 - acc: 0.8153\n",
            "Epoch 40/100\n",
            "133434/133434 [==============================] - 13s 94us/step - loss: 0.4267 - acc: 0.8153\n",
            "Epoch 41/100\n",
            "133434/133434 [==============================] - 13s 95us/step - loss: 0.4267 - acc: 0.8153\n",
            "Epoch 42/100\n",
            "133434/133434 [==============================] - 13s 94us/step - loss: 0.4268 - acc: 0.8153\n",
            "Epoch 43/100\n",
            "133434/133434 [==============================] - 15s 110us/step - loss: 0.4267 - acc: 0.8153\n",
            "Epoch 44/100\n",
            "133434/133434 [==============================] - 13s 98us/step - loss: 0.4268 - acc: 0.8153\n",
            "Epoch 45/100\n",
            "133434/133434 [==============================] - 13s 98us/step - loss: 0.4268 - acc: 0.8153\n",
            "Epoch 46/100\n",
            "133434/133434 [==============================] - 13s 98us/step - loss: 0.4268 - acc: 0.8153\n",
            "Epoch 47/100\n",
            "133434/133434 [==============================] - 15s 109us/step - loss: 0.4267 - acc: 0.8153\n",
            "Epoch 48/100\n",
            "133434/133434 [==============================] - 13s 99us/step - loss: 0.4267 - acc: 0.8153\n",
            "Epoch 49/100\n",
            "133434/133434 [==============================] - 13s 98us/step - loss: 0.4267 - acc: 0.8153\n",
            "Epoch 50/100\n",
            "133434/133434 [==============================] - 13s 98us/step - loss: 0.4267 - acc: 0.8153\n",
            "Epoch 51/100\n",
            "133434/133434 [==============================] - 13s 99us/step - loss: 0.4267 - acc: 0.8153\n",
            "Epoch 52/100\n",
            "133434/133434 [==============================] - 13s 98us/step - loss: 0.4267 - acc: 0.8153\n",
            "Epoch 53/100\n",
            "133434/133434 [==============================] - 14s 101us/step - loss: 0.4268 - acc: 0.8153\n",
            "Epoch 54/100\n",
            "133434/133434 [==============================] - 13s 100us/step - loss: 0.4267 - acc: 0.8153\n",
            "Epoch 55/100\n",
            "133434/133434 [==============================] - 13s 99us/step - loss: 0.4267 - acc: 0.8153\n",
            "Epoch 56/100\n",
            "133434/133434 [==============================] - 13s 99us/step - loss: 0.4267 - acc: 0.8153\n",
            "Epoch 57/100\n",
            "133434/133434 [==============================] - 13s 99us/step - loss: 0.4267 - acc: 0.8153\n",
            "Epoch 58/100\n",
            "133434/133434 [==============================] - 14s 102us/step - loss: 0.4267 - acc: 0.8153\n",
            "Epoch 59/100\n",
            "133434/133434 [==============================] - 13s 98us/step - loss: 0.4267 - acc: 0.8153\n",
            "Epoch 60/100\n",
            "133434/133434 [==============================] - 13s 98us/step - loss: 0.4267 - acc: 0.8153\n",
            "Epoch 61/100\n",
            "133434/133434 [==============================] - 13s 98us/step - loss: 0.4268 - acc: 0.8153\n",
            "Epoch 62/100\n",
            "133434/133434 [==============================] - 13s 97us/step - loss: 0.4267 - acc: 0.8153\n",
            "Epoch 63/100\n",
            "133434/133434 [==============================] - 13s 98us/step - loss: 0.4267 - acc: 0.8153\n",
            "Epoch 64/100\n",
            "133434/133434 [==============================] - 13s 97us/step - loss: 0.4267 - acc: 0.8153\n",
            "Epoch 65/100\n",
            "133434/133434 [==============================] - 13s 99us/step - loss: 0.4267 - acc: 0.8153\n",
            "Epoch 66/100\n",
            "133434/133434 [==============================] - 13s 99us/step - loss: 0.4267 - acc: 0.8153\n",
            "Epoch 67/100\n",
            "133434/133434 [==============================] - 13s 98us/step - loss: 0.4268 - acc: 0.8153\n",
            "Epoch 68/100\n",
            "133434/133434 [==============================] - 13s 98us/step - loss: 0.4267 - acc: 0.8153\n",
            "Epoch 69/100\n",
            "133434/133434 [==============================] - 13s 98us/step - loss: 0.4267 - acc: 0.8153\n",
            "Epoch 70/100\n",
            "133434/133434 [==============================] - 14s 103us/step - loss: 0.4267 - acc: 0.8153\n",
            "Epoch 71/100\n",
            "133434/133434 [==============================] - 14s 103us/step - loss: 0.4267 - acc: 0.8153\n",
            "Epoch 72/100\n",
            "133434/133434 [==============================] - 13s 98us/step - loss: 0.4267 - acc: 0.8153\n",
            "Epoch 73/100\n",
            "133434/133434 [==============================] - 13s 98us/step - loss: 0.4267 - acc: 0.8153\n",
            "Epoch 74/100\n",
            "133434/133434 [==============================] - 13s 99us/step - loss: 0.4268 - acc: 0.8153\n",
            "Epoch 75/100\n",
            "133434/133434 [==============================] - 13s 97us/step - loss: 0.4267 - acc: 0.8153\n",
            "Epoch 76/100\n",
            "133434/133434 [==============================] - 13s 98us/step - loss: 0.4267 - acc: 0.8153\n",
            "Epoch 77/100\n",
            "133434/133434 [==============================] - 13s 97us/step - loss: 0.4267 - acc: 0.8153\n",
            "Epoch 78/100\n",
            "133434/133434 [==============================] - 13s 98us/step - loss: 0.4267 - acc: 0.8153\n",
            "Epoch 79/100\n",
            "133434/133434 [==============================] - 13s 98us/step - loss: 0.4267 - acc: 0.8153\n",
            "Epoch 80/100\n",
            "133434/133434 [==============================] - 13s 98us/step - loss: 0.4268 - acc: 0.8153\n",
            "Epoch 81/100\n",
            "133434/133434 [==============================] - 13s 100us/step - loss: 0.4267 - acc: 0.8153\n",
            "Epoch 82/100\n",
            "133434/133434 [==============================] - 13s 98us/step - loss: 0.4267 - acc: 0.8153\n",
            "Epoch 83/100\n",
            "133434/133434 [==============================] - 13s 98us/step - loss: 0.4267 - acc: 0.8153\n",
            "Epoch 84/100\n",
            "133434/133434 [==============================] - 13s 98us/step - loss: 0.4267 - acc: 0.8153\n",
            "Epoch 85/100\n",
            "133434/133434 [==============================] - 13s 97us/step - loss: 0.4267 - acc: 0.8153\n",
            "Epoch 86/100\n",
            "133434/133434 [==============================] - 13s 98us/step - loss: 0.4267 - acc: 0.8153\n",
            "Epoch 87/100\n",
            "133434/133434 [==============================] - 13s 99us/step - loss: 0.4267 - acc: 0.8153\n",
            "Epoch 88/100\n",
            "133434/133434 [==============================] - 13s 98us/step - loss: 0.4267 - acc: 0.8153\n",
            "Epoch 89/100\n",
            "133434/133434 [==============================] - 13s 97us/step - loss: 0.4267 - acc: 0.8153\n",
            "Epoch 90/100\n",
            "133434/133434 [==============================] - 13s 98us/step - loss: 0.4267 - acc: 0.8153\n",
            "Epoch 91/100\n",
            "133434/133434 [==============================] - 13s 99us/step - loss: 0.4267 - acc: 0.8153\n",
            "Epoch 92/100\n",
            "133434/133434 [==============================] - 13s 99us/step - loss: 0.4267 - acc: 0.8153\n",
            "Epoch 93/100\n",
            "133434/133434 [==============================] - 13s 98us/step - loss: 0.4267 - acc: 0.8153\n",
            "Epoch 94/100\n",
            "133434/133434 [==============================] - 14s 107us/step - loss: 0.4267 - acc: 0.8153\n",
            "Epoch 95/100\n",
            "133434/133434 [==============================] - 13s 101us/step - loss: 0.4267 - acc: 0.8153\n",
            "Epoch 96/100\n",
            "133434/133434 [==============================] - 13s 99us/step - loss: 0.4267 - acc: 0.8153\n",
            "Epoch 97/100\n",
            "133434/133434 [==============================] - 13s 98us/step - loss: 0.4267 - acc: 0.8153\n",
            "Epoch 98/100\n",
            "133434/133434 [==============================] - 13s 98us/step - loss: 0.4267 - acc: 0.8153\n",
            "Epoch 99/100\n",
            "133434/133434 [==============================] - 13s 98us/step - loss: 0.4267 - acc: 0.8153\n",
            "Epoch 100/100\n",
            "133434/133434 [==============================] - 13s 97us/step - loss: 0.4267 - acc: 0.8153\n"
          ],
          "name": "stdout"
        },
        {
          "output_type": "execute_result",
          "data": {
            "text/plain": [
              "<keras.callbacks.History at 0x7f36d2ed5e80>"
            ]
          },
          "metadata": {
            "tags": []
          },
          "execution_count": 120
        }
      ]
    },
    {
      "metadata": {
        "id": "hTX2LZ6ANTjz",
        "colab_type": "text"
      },
      "cell_type": "markdown",
      "source": [
        "Loss and accuracy of the model"
      ]
    },
    {
      "metadata": {
        "id": "PH4ipALr_8Xa",
        "colab_type": "code",
        "outputId": "af94426a-9e66-4eac-c665-0bd491778602",
        "colab": {
          "base_uri": "https://localhost:8080/",
          "height": 51
        }
      },
      "cell_type": "code",
      "source": [
        "# evalute model\n",
        "eval_model = classifier.evaluate(os_features, os_labels)\n",
        "eval_model"
      ],
      "execution_count": 0,
      "outputs": [
        {
          "output_type": "stream",
          "text": [
            "133434/133434 [==============================] - 2s 16us/step\n"
          ],
          "name": "stdout"
        },
        {
          "output_type": "execute_result",
          "data": {
            "text/plain": [
              "[0.4270320574194182, 0.815294452691794]"
            ]
          },
          "metadata": {
            "tags": []
          },
          "execution_count": 123
        }
      ]
    },
    {
      "metadata": {
        "id": "5QeCwxMDLkmt",
        "colab_type": "code",
        "colab": {}
      },
      "cell_type": "code",
      "source": [
        "prediction = classifier.predict(test_features)\n",
        "prediction = (prediction >0.5)"
      ],
      "execution_count": 0,
      "outputs": []
    },
    {
      "metadata": {
        "id": "J-Go49pFNzPS",
        "colab_type": "code",
        "outputId": "03dd5798-6469-4d5e-8705-633fae4719a4",
        "colab": {
          "base_uri": "https://localhost:8080/",
          "height": 255
        }
      },
      "cell_type": "code",
      "source": [
        "#metrics\n",
        "accuracy=accuracy_score(test_labels,prediction)\n",
        "print(accuracy)\n",
        "print('===================================')\n",
        "print(classification_report(test_labels,prediction))\n",
        "print('===================================')\n",
        "c_metric=confusion_matrix(test_labels,prediction)\n",
        "c_metric"
      ],
      "execution_count": 0,
      "outputs": [
        {
          "output_type": "stream",
          "text": [
            "0.8490180828310324\n",
            "===================================\n",
            "              precision    recall  f1-score   support\n",
            "\n",
            "           0       0.90      0.89      0.89     22297\n",
            "           1       0.72      0.75      0.73      8561\n",
            "\n",
            "   micro avg       0.85      0.85      0.85     30858\n",
            "   macro avg       0.81      0.82      0.81     30858\n",
            "weighted avg       0.85      0.85      0.85     30858\n",
            "\n",
            "===================================\n"
          ],
          "name": "stdout"
        },
        {
          "output_type": "execute_result",
          "data": {
            "text/plain": [
              "array([[19739,  2558],\n",
              "       [ 2101,  6460]])"
            ]
          },
          "metadata": {
            "tags": []
          },
          "execution_count": 128
        }
      ]
    },
    {
      "metadata": {
        "id": "CkpteefoOIKP",
        "colab_type": "code",
        "outputId": "f70df614-f4a6-4a70-af5a-21fc53f7a2b8",
        "colab": {
          "base_uri": "https://localhost:8080/",
          "height": 463
        }
      },
      "cell_type": "code",
      "source": [
        "plot_confusion_matrix(cm           = c_metric, \n",
        "                      normalize    = True,\n",
        "                      target_names = ['0', '1'],\n",
        "                      title        = \"Confusion Matrix\")"
      ],
      "execution_count": 0,
      "outputs": [
        {
          "output_type": "display_data",
          "data": {
            "image/png": "[encoded data removed]",
            "text/plain": [
              "<Figure size 576x432 with 2 Axes>"
            ]
          },
          "metadata": {
            "tags": []
          }
        }
      ]
    },
    {
      "metadata": {
        "id": "sTEIwWaWO9-j",
        "colab_type": "text"
      },
      "cell_type": "markdown",
      "source": [
        "## Validation"
      ]
    },
    {
      "metadata": {
        "id": "4eR5f90KO9Io",
        "colab_type": "code",
        "outputId": "6c3150bf-dbbc-40f5-a357-aff5092a6133",
        "colab": {
          "base_uri": "https://localhost:8080/",
          "height": 255
        }
      },
      "cell_type": "code",
      "source": [
        "# make prediction\n",
        "val_prediction = classifier.predict(val_features)\n",
        "val_prediction = (val_prediction> 0.5)\n",
        "#metrics\n",
        "accuracy=accuracy_score(val_labels,val_prediction)\n",
        "print(accuracy)\n",
        "print('===================================')\n",
        "print(classification_report(val_labels,val_prediction))\n",
        "print('===================================')\n",
        "c_metric=confusion_matrix(val_labels,val_prediction)\n",
        "c_metric"
      ],
      "execution_count": 0,
      "outputs": [
        {
          "output_type": "stream",
          "text": [
            "0.8471709119191133\n",
            "===================================\n",
            "              precision    recall  f1-score   support\n",
            "\n",
            "           0       0.90      0.89      0.89     22374\n",
            "           1       0.71      0.75      0.73      8484\n",
            "\n",
            "   micro avg       0.85      0.85      0.85     30858\n",
            "   macro avg       0.81      0.82      0.81     30858\n",
            "weighted avg       0.85      0.85      0.85     30858\n",
            "\n",
            "===================================\n"
          ],
          "name": "stdout"
        },
        {
          "output_type": "execute_result",
          "data": {
            "text/plain": [
              "array([[19809,  2565],\n",
              "       [ 2151,  6333]])"
            ]
          },
          "metadata": {
            "tags": []
          },
          "execution_count": 133
        }
      ]
    },
    {
      "metadata": {
        "id": "el_6InVGOy79",
        "colab_type": "code",
        "outputId": "a0cba26f-79ac-4b95-c397-d3773b335fc8",
        "colab": {
          "base_uri": "https://localhost:8080/",
          "height": 463
        }
      },
      "cell_type": "code",
      "source": [
        "plot_confusion_matrix(cm           = c_metric, \n",
        "                      normalize    = True,\n",
        "                      target_names = ['0', '1'],\n",
        "                      title        = \"Confusion Matrix\")"
      ],
      "execution_count": 0,
      "outputs": [
        {
          "output_type": "display_data",
          "data": {
            "image/png": "[encoded data removed]",
            "text/plain": [
              "<Figure size 576x432 with 2 Axes>"
            ]
          },
          "metadata": {
            "tags": []
          }
        }
      ]
    },
    {
      "metadata": {
        "id": "-cH2GIo3QQLw",
        "colab_type": "text"
      },
      "cell_type": "markdown",
      "source": [
        "The two models did not outperform each other. This could be a problem of overfitting (very common with oversampling)."
      ]
    },
    {
      "metadata": {
        "id": "KxJ9_WpTQjDO",
        "colab_type": "code",
        "colab": {}
      },
      "cell_type": "code",
      "source": [
        ""
      ],
      "execution_count": 0,
      "outputs": []
    }
  ]
}